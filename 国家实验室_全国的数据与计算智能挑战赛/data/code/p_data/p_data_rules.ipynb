{
 "cells": [
  {
   "cell_type": "code",
   "execution_count": 1,
   "metadata": {},
   "outputs": [],
   "source": [
    "import pandas as pd\n",
    "\n",
    "rule_1=pd.read_json(\"/home/un/桌面/QC/2024_全国大数据智能大赛/new_复赛_code/data/rules1.json\")\n",
    "rule_2=pd.read_json(\"/home/un/桌面/QC/2024_全国大数据智能大赛/new_复赛_code/data/rules2.json\")"
   ]
  },
  {
   "cell_type": "code",
   "execution_count": 2,
   "metadata": {},
   "outputs": [
    {
     "data": {
      "text/html": [
       "<div>\n",
       "<style scoped>\n",
       "    .dataframe tbody tr th:only-of-type {\n",
       "        vertical-align: middle;\n",
       "    }\n",
       "\n",
       "    .dataframe tbody tr th {\n",
       "        vertical-align: top;\n",
       "    }\n",
       "\n",
       "    .dataframe thead th {\n",
       "        text-align: right;\n",
       "    }\n",
       "</style>\n",
       "<table border=\"1\" class=\"dataframe\">\n",
       "  <thead>\n",
       "    <tr style=\"text-align: right;\">\n",
       "      <th></th>\n",
       "      <th>rule_id</th>\n",
       "      <th>rule_text</th>\n",
       "    </tr>\n",
       "  </thead>\n",
       "  <tbody>\n",
       "    <tr>\n",
       "      <th>0</th>\n",
       "      <td>1</td>\n",
       "      <td>危险化学品事故是指危险化学品生产、经营、储存、运输、使用和废弃危险化学品处置等过程中由危险化...</td>\n",
       "    </tr>\n",
       "    <tr>\n",
       "      <th>1</th>\n",
       "      <td>2</td>\n",
       "      <td>协调指挥机构与职责：在国务院及国务院安委会统一领导下，安全监管总局负责统一指导、协调危险化学...</td>\n",
       "    </tr>\n",
       "    <tr>\n",
       "      <th>2</th>\n",
       "      <td>3</td>\n",
       "      <td>办公厅的职责：负责应急值守，及时向安全监管总局领导报告事故信息，传达安全监管总局领导关于事故...</td>\n",
       "    </tr>\n",
       "    <tr>\n",
       "      <th>3</th>\n",
       "      <td>4</td>\n",
       "      <td>政策法规司的职责：负责事故信息发布工作，与中宣部、国务院新闻办及新华社、人民日报社、中央人民...</td>\n",
       "    </tr>\n",
       "    <tr>\n",
       "      <th>4</th>\n",
       "      <td>5</td>\n",
       "      <td>安全生产协调司的职责：根据安全监管总局领导指示和有关规定，组织协调安全监察专员赶赴事故现场参...</td>\n",
       "    </tr>\n",
       "  </tbody>\n",
       "</table>\n",
       "</div>"
      ],
      "text/plain": [
       "   rule_id                                          rule_text\n",
       "0        1  危险化学品事故是指危险化学品生产、经营、储存、运输、使用和废弃危险化学品处置等过程中由危险化...\n",
       "1        2  协调指挥机构与职责：在国务院及国务院安委会统一领导下，安全监管总局负责统一指导、协调危险化学...\n",
       "2        3  办公厅的职责：负责应急值守，及时向安全监管总局领导报告事故信息，传达安全监管总局领导关于事故...\n",
       "3        4  政策法规司的职责：负责事故信息发布工作，与中宣部、国务院新闻办及新华社、人民日报社、中央人民...\n",
       "4        5  安全生产协调司的职责：根据安全监管总局领导指示和有关规定，组织协调安全监察专员赶赴事故现场参..."
      ]
     },
     "execution_count": 2,
     "metadata": {},
     "output_type": "execute_result"
    }
   ],
   "source": [
    "rule_1.head()"
   ]
  },
  {
   "cell_type": "code",
   "execution_count": 3,
   "metadata": {},
   "outputs": [
    {
     "data": {
      "text/html": [
       "<div>\n",
       "<style scoped>\n",
       "    .dataframe tbody tr th:only-of-type {\n",
       "        vertical-align: middle;\n",
       "    }\n",
       "\n",
       "    .dataframe tbody tr th {\n",
       "        vertical-align: top;\n",
       "    }\n",
       "\n",
       "    .dataframe thead th {\n",
       "        text-align: right;\n",
       "    }\n",
       "</style>\n",
       "<table border=\"1\" class=\"dataframe\">\n",
       "  <thead>\n",
       "    <tr style=\"text-align: right;\">\n",
       "      <th></th>\n",
       "      <th>rule_id</th>\n",
       "      <th>rule_text</th>\n",
       "    </tr>\n",
       "  </thead>\n",
       "  <tbody>\n",
       "    <tr>\n",
       "      <th>0</th>\n",
       "      <td>801</td>\n",
       "      <td>工作原则：加强协调，分级负责：在国务院的统一领导下，实行属地管理，分级负责；地方各级人民政府...</td>\n",
       "    </tr>\n",
       "    <tr>\n",
       "      <th>1</th>\n",
       "      <td>802</td>\n",
       "      <td>组织指挥体系及职责任务：国家应急组织机构与职责：国家应急组织机构由农业部草原防火指挥部(以下...</td>\n",
       "    </tr>\n",
       "    <tr>\n",
       "      <th>2</th>\n",
       "      <td>803</td>\n",
       "      <td>指挥部人员组成及职责：人员组成：农业部主管草原工作的副部长任总指挥。由办公厅、人事劳动司、产...</td>\n",
       "    </tr>\n",
       "    <tr>\n",
       "      <th>3</th>\n",
       "      <td>804</td>\n",
       "      <td>综合组人员组成及职责：人员组成：由办公厅、畜牧业司、指挥部办公室有关人员组成。主要职责：进行...</td>\n",
       "    </tr>\n",
       "    <tr>\n",
       "      <th>4</th>\n",
       "      <td>805</td>\n",
       "      <td>督导组人员组成及职责：人员组成：由指挥部领导根据火情决定。主要职责：深入火场一线，检查监督各...</td>\n",
       "    </tr>\n",
       "  </tbody>\n",
       "</table>\n",
       "</div>"
      ],
      "text/plain": [
       "   rule_id                                          rule_text\n",
       "0      801  工作原则：加强协调，分级负责：在国务院的统一领导下，实行属地管理，分级负责；地方各级人民政府...\n",
       "1      802  组织指挥体系及职责任务：国家应急组织机构与职责：国家应急组织机构由农业部草原防火指挥部(以下...\n",
       "2      803  指挥部人员组成及职责：人员组成：农业部主管草原工作的副部长任总指挥。由办公厅、人事劳动司、产...\n",
       "3      804  综合组人员组成及职责：人员组成：由办公厅、畜牧业司、指挥部办公室有关人员组成。主要职责：进行...\n",
       "4      805  督导组人员组成及职责：人员组成：由指挥部领导根据火情决定。主要职责：深入火场一线，检查监督各..."
      ]
     },
     "execution_count": 3,
     "metadata": {},
     "output_type": "execute_result"
    }
   ],
   "source": [
    "rule_2.head()"
   ]
  },
  {
   "cell_type": "code",
   "execution_count": 4,
   "metadata": {},
   "outputs": [],
   "source": [
    "all_rules_data=pd.concat([rule_1,rule_2]).reset_index()"
   ]
  },
  {
   "cell_type": "code",
   "execution_count": 5,
   "metadata": {},
   "outputs": [],
   "source": [
    "all_rules_data=all_rules_data.drop(\"index\",axis=1)"
   ]
  },
  {
   "cell_type": "code",
   "execution_count": 6,
   "metadata": {},
   "outputs": [],
   "source": [
    "all_rules_data.to_json(\"/home/un/桌面/QC/2024_全国大数据智能大赛/new_复赛_code/my_data/all_rules_data.json\")"
   ]
  }
 ],
 "metadata": {
  "kernelspec": {
   "display_name": "GLM4",
   "language": "python",
   "name": "python3"
  },
  "language_info": {
   "codemirror_mode": {
    "name": "ipython",
    "version": 3
   },
   "file_extension": ".py",
   "mimetype": "text/x-python",
   "name": "python",
   "nbconvert_exporter": "python",
   "pygments_lexer": "ipython3",
   "version": "3.12.3"
  }
 },
 "nbformat": 4,
 "nbformat_minor": 2
}
